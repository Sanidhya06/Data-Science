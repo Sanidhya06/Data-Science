{
 "cells": [
  {
   "cell_type": "code",
   "execution_count": null,
   "metadata": {},
   "outputs": [],
   "source": [
    "import pandas\n",
    "\n",
    "ele_data = pandas.read_csv('Data Sets/household_power_randomized.csv')\n",
    "df = pandas.DataFrame(ele_data)"
   ]
  },
  {
   "cell_type": "code",
   "execution_count": null,
   "metadata": {},
   "outputs": [],
   "source": [
    "for i in range(len(df.Date)):\n",
    "    dt = df.Date[i].split('/')\n",
    "    tm = df.Time[i].split(':')\n",
    "\n",
    "    if len(dt[0]) == 1:\n",
    "        dt[0] = '0' + dt[0]\n",
    "    if(len(dt[1]) == 1):\n",
    "        dt[1] = '0' + dt[1]\n",
    "    if(len(dt[2]) == 2):\n",
    "        dt[2] = '20' + dt[2]\n",
    "\n",
    "    if len(tm[0]) == 1:\n",
    "        tm[0] = '0' + tm[0]\n",
    "    if len(tm[1]) == 1:\n",
    "        tm[1] = '0' + tm[1]\n",
    "    if len(tm[2]) == 1:\n",
    "        tm[2] = '0' + tm[2]\n",
    "    \n",
    "    df.Random[i] = dt[2] + dt[1] + dt[0] + tm[0] +tm[1] + tm[2]"
   ]
  },
  {
   "cell_type": "code",
   "execution_count": null,
   "metadata": {},
   "outputs": [],
   "source": [
    "sorted_df = df.sort_values(by=['Random'])\n",
    "sorted_df.set_index('Index', drop=True, inplace = True)\n",
    "sorted_df.drop(columns='Random', axis=1, inplace=True)\n",
    "sorted_df.drop(columns='Unnamed: 10', axis=1, inplace=True)"
   ]
  },
  {
   "cell_type": "code",
   "execution_count": null,
   "metadata": {},
   "outputs": [],
   "source": [
    "sorted_df"
   ]
  },
  {
   "cell_type": "code",
   "execution_count": null,
   "metadata": {},
   "outputs": [],
   "source": [
    "# sorted_df.to_csv('Data Sets/Sorted.csv')"
   ]
  }
 ],
 "metadata": {
  "kernelspec": {
   "display_name": "Python 3.10.7 64-bit",
   "language": "python",
   "name": "python3"
  },
  "language_info": {
   "codemirror_mode": {
    "name": "ipython",
    "version": 3
   },
   "file_extension": ".py",
   "mimetype": "text/x-python",
   "name": "python",
   "nbconvert_exporter": "python",
   "pygments_lexer": "ipython3",
   "version": "3.10.7"
  },
  "orig_nbformat": 4,
  "vscode": {
   "interpreter": {
    "hash": "916dbcbb3f70747c44a77c7bcd40155683ae19c65e1c03b4aa3499c5328201f1"
   }
  }
 },
 "nbformat": 4,
 "nbformat_minor": 2
}
